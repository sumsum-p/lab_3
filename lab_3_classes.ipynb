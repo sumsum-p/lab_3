{
 "cells": [
  {
   "cell_type": "code",
   "execution_count": 1,
   "id": "2f8fb2f0-8cf5-470c-81fd-2297607ee53d",
   "metadata": {},
   "outputs": [
    {
     "name": "stdin",
     "output_type": "stream",
     "text": [
      "Введите строку:  hgjjf\n"
     ]
    },
    {
     "name": "stdout",
     "output_type": "stream",
     "text": [
      "HGJJF\n"
     ]
    }
   ],
   "source": [
    "class StringManipulator:\n",
    "    def __init__(self):\n",
    "        self.text = \"\"\n",
    "\n",
    "    def getString(self):\n",
    "        self.text = input(\"Введите строку: \")\n",
    "\n",
    "    def printString(self):\n",
    "        print(self.text.upper())\n",
    "\n",
    "strr = StringManipulator()\n",
    "strr.getString()  \n",
    "strr.printString()  \n"
   ]
  },
  {
   "cell_type": "code",
   "execution_count": 3,
   "id": "5069a113-0406-44d2-aaa5-9ae1a29e1dcd",
   "metadata": {},
   "outputs": [
    {
     "name": "stdin",
     "output_type": "stream",
     "text": [
      " 7\n"
     ]
    },
    {
     "name": "stdout",
     "output_type": "stream",
     "text": [
      "Area is : 49\n"
     ]
    }
   ],
   "source": [
    "class Shape:\n",
    "    def area(self):\n",
    "        return 0\n",
    "\n",
    "class Square(Shape):\n",
    "    def __init__(self, length):\n",
    "        self.length = length \n",
    "\n",
    "    def area(self):\n",
    "        return self.length ** 2\n",
    "\n",
    "sq = Square(int(input()))\n",
    "print(f\"Area is : {sq.area()}\") \n"
   ]
  },
  {
   "cell_type": "code",
   "execution_count": 10,
   "id": "f73131c0-3c33-4c75-b582-425cc5c291e5",
   "metadata": {},
   "outputs": [
    {
     "name": "stdin",
     "output_type": "stream",
     "text": [
      "Введите длину прямоугольника:  5\n",
      "Введите ширину прямоугольника:  3\n"
     ]
    },
    {
     "name": "stdout",
     "output_type": "stream",
     "text": [
      " ar is 15\n"
     ]
    }
   ],
   "source": [
    "class Shape:\n",
    "    def area(self):\n",
    "        return 0\n",
    "class Rec(Shape):\n",
    "    def __init__ (self, l,w):\n",
    "        self.l = l\n",
    "        self.w= w\n",
    "    def area (self):\n",
    "        return self.l * self.w\n",
    "        \n",
    "l = int(input(\"Введите длину прямоугольника: \"))\n",
    "w = int(input(\"Введите ширину прямоугольника: \"))\n",
    "\n",
    "rect = Rec(l, w)\n",
    "print(f\" ar is {rect.area()}\")"
   ]
  },
  {
   "cell_type": "code",
   "execution_count": 11,
   "id": "90d92275-3feb-4b38-b151-3156f4acea99",
   "metadata": {},
   "outputs": [
    {
     "name": "stdout",
     "output_type": "stream",
     "text": [
      "(2, 3)\n",
      "(4, 6)\n",
      "1.4142135623730951\n"
     ]
    }
   ],
   "source": [
    "import math\n",
    "\n",
    "class Point:\n",
    "    def __init__(self, x, y):\n",
    "        self.x = x\n",
    "        self.y = y\n",
    "\n",
    "    def show(self):\n",
    "        print(f\"({self.x}, {self.y})\")\n",
    "\n",
    "    def move(self, new_x, new_y):\n",
    "        self.x = new_x\n",
    "        self.y = new_y\n",
    "\n",
    "    def dist(self, other_point):\n",
    "        return math.sqrt((self.x - other_point.x) ** 2 + (self.y - other_point.y) ** 2)\n",
    "\n",
    "\n",
    "p1 = Point(2, 3)\n",
    "p2 = Point(5, 7)\n",
    "\n",
    "p1.show()  \n",
    "p1.move(4, 6)\n",
    "p1.show() \n",
    "\n",
    "print(p1.dist(p2)) \n"
   ]
  },
  {
   "cell_type": "code",
   "execution_count": 12,
   "id": "d9946cb3-9640-4932-ac7d-232d0afebe43",
   "metadata": {},
   "outputs": [
    {
     "name": "stdout",
     "output_type": "stream",
     "text": [
      "Баланс пополнен на 50. Новый баланс: 150\n",
      "Снято 30. Остаток: 120\n",
      "Недостаточно средств!\n"
     ]
    }
   ],
   "source": [
    "class Account:\n",
    "    def __init__(self, owner, balance):\n",
    "        self.owner = owner\n",
    "        self.balance = balance\n",
    "\n",
    "    def deposit(self, amount):\n",
    "        self.balance += amount\n",
    "        print(f\"Баланс пополнен на {amount}. Новый баланс: {self.balance}\")\n",
    "\n",
    "    def withdraw(self, amount):\n",
    "        if amount > self.balance:\n",
    "            print(\"Недостаточно средств!\")\n",
    "        else:\n",
    "            self.balance -= amount\n",
    "            print(f\"Снято {amount}. Остаток: {self.balance}\")\n",
    "\n",
    "acc = Account(\"Alice\", 100)\n",
    "acc.deposit(50) \n",
    "acc.withdraw(30)  \n",
    "acc.withdraw(200) \n"
   ]
  },
  {
   "cell_type": "code",
   "execution_count": 16,
   "id": "2d4b5dfd-dadb-4cf0-bd87-847fab714067",
   "metadata": {},
   "outputs": [
    {
     "name": "stdin",
     "output_type": "stream",
     "text": [
      " 1 3 4 4 6 7 9\n"
     ]
    },
    {
     "name": "stdout",
     "output_type": "stream",
     "text": [
      "[3, 7]\n"
     ]
    }
   ],
   "source": [
    "def is_prime(n):\n",
    "    if n < 2:\n",
    "        return False\n",
    "    for i in range(2, int(n**0.5) + 1):\n",
    "        if n % i == 0:\n",
    "            return False\n",
    "    return True\n",
    "\n",
    "numbers=list(map(int,input().split()))\n",
    "primes = list(filter(lambda x: is_prime(x), numbers))\n",
    "\n",
    "print(primes) \n"
   ]
  },
  {
   "cell_type": "code",
   "execution_count": null,
   "id": "f6893d2a-9da1-4503-bcc7-d371e1d058f1",
   "metadata": {},
   "outputs": [],
   "source": []
  }
 ],
 "metadata": {
  "kernelspec": {
   "display_name": "Python 3 (ipykernel)",
   "language": "python",
   "name": "python3"
  },
  "language_info": {
   "codemirror_mode": {
    "name": "ipython",
    "version": 3
   },
   "file_extension": ".py",
   "mimetype": "text/x-python",
   "name": "python",
   "nbconvert_exporter": "python",
   "pygments_lexer": "ipython3",
   "version": "3.12.7"
  }
 },
 "nbformat": 4,
 "nbformat_minor": 5
}
