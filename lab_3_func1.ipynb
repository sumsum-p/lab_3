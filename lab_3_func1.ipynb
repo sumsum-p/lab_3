{
 "cells": [
  {
   "cell_type": "code",
   "execution_count": 5,
   "id": "357df1ab-bdf6-42f3-9b13-642960880389",
   "metadata": {},
   "outputs": [
    {
     "name": "stdin",
     "output_type": "stream",
     "text": [
      "Hello! What is your name?  s\n"
     ]
    },
    {
     "name": "stdout",
     "output_type": "stream",
     "text": [
      "Well, s, I am thinking of a number between 1 and 20.\n"
     ]
    },
    {
     "name": "stdin",
     "output_type": "stream",
     "text": [
      "Take a guess:  5\n"
     ]
    },
    {
     "name": "stdout",
     "output_type": "stream",
     "text": [
      "Too low.\n"
     ]
    },
    {
     "name": "stdin",
     "output_type": "stream",
     "text": [
      "Take a guess:  7\n"
     ]
    },
    {
     "name": "stdout",
     "output_type": "stream",
     "text": [
      "Too low.\n"
     ]
    },
    {
     "name": "stdin",
     "output_type": "stream",
     "text": [
      "Take a guess:  15\n"
     ]
    },
    {
     "name": "stdout",
     "output_type": "stream",
     "text": [
      "Too high.\n"
     ]
    },
    {
     "name": "stdin",
     "output_type": "stream",
     "text": [
      "Take a guess:  12\n"
     ]
    },
    {
     "name": "stdout",
     "output_type": "stream",
     "text": [
      "Too high.\n"
     ]
    },
    {
     "name": "stdin",
     "output_type": "stream",
     "text": [
      "Take a guess:  11\n"
     ]
    },
    {
     "name": "stdout",
     "output_type": "stream",
     "text": [
      "Too high.\n"
     ]
    },
    {
     "name": "stdin",
     "output_type": "stream",
     "text": [
      "Take a guess:  10\n"
     ]
    },
    {
     "name": "stdout",
     "output_type": "stream",
     "text": [
      "Too high.\n"
     ]
    },
    {
     "name": "stdin",
     "output_type": "stream",
     "text": [
      "Take a guess:  9\n"
     ]
    },
    {
     "name": "stdout",
     "output_type": "stream",
     "text": [
      "Good job, s! You guessed my number in 7 tries!\n"
     ]
    }
   ],
   "source": [
    "#13\n",
    "def guess_number():\n",
    "    import random\n",
    "    name = input(\"Hello! What is your name? \")\n",
    "    num = random.randint(1, 20)\n",
    "    print(f\"Well, {name}, I am thinking of a number between 1 and 20.\")\n",
    "    guesses = 0\n",
    "    while True:\n",
    "        guess = int(input(\"Take a guess: \"))\n",
    "        guesses += 1\n",
    "        if guess < num:\n",
    "            print(\"Too low.\")\n",
    "        elif guess > num:\n",
    "            print(\"Too high.\")\n",
    "        else:\n",
    "            print(f\"Good job, {name}! You guessed my number in {guesses} tries!\")\n",
    "            break\n",
    "\n",
    "guess_number()"
   ]
  },
  {
   "cell_type": "code",
   "execution_count": 6,
   "id": "200a20eb-5dbc-4be8-b97b-66c04d394fe6",
   "metadata": {},
   "outputs": [
    {
     "name": "stdin",
     "output_type": "stream",
     "text": [
      " 44\n"
     ]
    },
    {
     "name": "stdout",
     "output_type": "stream",
     "text": [
      "1247.3790164\n"
     ]
    }
   ],
   "source": [
    "#1\n",
    "def grams_to_ounces(grams):\n",
    "    return grams * 28.3495231\n",
    "\n",
    "grams = float(input())\n",
    "print(grams_to_ounces(grams))"
   ]
  },
  {
   "cell_type": "code",
   "execution_count": 7,
   "id": "485026f3-b1cc-44eb-ac10-1351383fc9fa",
   "metadata": {},
   "outputs": [
    {
     "name": "stdin",
     "output_type": "stream",
     "text": [
      " 56\n"
     ]
    },
    {
     "name": "stdout",
     "output_type": "stream",
     "text": [
      "13.333333333333334\n"
     ]
    }
   ],
   "source": [
    "# 2. Convert F to C\n",
    "def ftoc(f):\n",
    "    return (f - 32) * 5 / 9\n",
    "\n",
    "f = float(input())\n",
    "print(ftoc(f))"
   ]
  },
  {
   "cell_type": "code",
   "execution_count": 8,
   "id": "acc25c4b-cf8a-4c00-b5a4-63cbfb890a92",
   "metadata": {},
   "outputs": [
    {
     "name": "stdin",
     "output_type": "stream",
     "text": [
      " 54\n",
      " 68\n"
     ]
    },
    {
     "name": "stdout",
     "output_type": "stream",
     "text": [
      "No solution\n"
     ]
    }
   ],
   "source": [
    "#3\n",
    "def solve(heads, legs):\n",
    "    for c in range(heads + 1):\n",
    "        r = heads - c\n",
    "        if c * 2 + r * 4 == legs:\n",
    "            print(c, r)\n",
    "            return\n",
    "    print(\"No solution\")\n",
    "\n",
    "solve(int(input()), int(input()))"
   ]
  },
  {
   "cell_type": "code",
   "execution_count": 9,
   "id": "77153c6c-29b8-4550-accf-e89e15426813",
   "metadata": {},
   "outputs": [
    {
     "name": "stdin",
     "output_type": "stream",
     "text": [
      " 5 6 8 8 9 7\n"
     ]
    },
    {
     "name": "stdout",
     "output_type": "stream",
     "text": [
      "[5, 7]\n"
     ]
    }
   ],
   "source": [
    "#4\n",
    "def is_prime(n):\n",
    "    if n < 2:\n",
    "        return False\n",
    "    for i in range(2, n):\n",
    "        if n % i == 0:\n",
    "            return False\n",
    "    return True\n",
    "\n",
    "nums = map(int, input().split())\n",
    "print([n for n in nums if is_prime(n)])"
   ]
  },
  {
   "cell_type": "code",
   "execution_count": 14,
   "id": "f8cc1b49-7683-4c5c-a93d-a8cdb4a6bc14",
   "metadata": {},
   "outputs": [
    {
     "name": "stdin",
     "output_type": "stream",
     "text": [
      " 234\n"
     ]
    },
    {
     "name": "stdout",
     "output_type": "stream",
     "text": [
      "234\n",
      "243\n",
      "324\n",
      "342\n",
      "423\n",
      "432\n"
     ]
    }
   ],
   "source": [
    "#5\n",
    "from itertools import permutations\n",
    "\n",
    "data = input()\n",
    "for p in permutations(data):\n",
    "    print(\"\".join(p))\n",
    "\n"
   ]
  },
  {
   "cell_type": "code",
   "execution_count": 15,
   "id": "2fe567d8-0fe2-430c-8ff8-e078b6a716d9",
   "metadata": {},
   "outputs": [
    {
     "name": "stdin",
     "output_type": "stream",
     "text": [
      " dgf 4 go\n"
     ]
    },
    {
     "name": "stdout",
     "output_type": "stream",
     "text": [
      "go 4 dgf\n"
     ]
    }
   ],
   "source": [
    "#6\n",
    "print(\" \".join(input().split()[::-1]))"
   ]
  },
  {
   "cell_type": "code",
   "execution_count": 17,
   "id": "f93ca712-5c20-427d-8ded-6290309c0861",
   "metadata": {},
   "outputs": [
    {
     "name": "stdin",
     "output_type": "stream",
     "text": [
      " 4 75 4\n"
     ]
    },
    {
     "name": "stdout",
     "output_type": "stream",
     "text": [
      "False\n"
     ]
    }
   ],
   "source": [
    "#7\n",
    "def func(llist):\n",
    "    for i in range (len(llist)-1):\n",
    "        if llist[i]==3 and llist[i+1]==3:\n",
    "            return True\n",
    "    return False\n",
    "print(func(list(map(int,input().split()))))"
   ]
  },
  {
   "cell_type": "code",
   "execution_count": 18,
   "id": "d114dd83-5dc4-4888-9c16-e5f130a99a3b",
   "metadata": {},
   "outputs": [
    {
     "name": "stdin",
     "output_type": "stream",
     "text": [
      " 4 5 8 0 0 7\n"
     ]
    },
    {
     "name": "stdout",
     "output_type": "stream",
     "text": [
      "True\n"
     ]
    }
   ],
   "source": [
    "#8 \n",
    "def spy_game(nums):\n",
    "    code = [0, 0, 7]\n",
    "    for n in nums:\n",
    "        if code and n == code[0]:\n",
    "            code.pop(0)\n",
    "    if code == []:\n",
    "        return True\n",
    "    else:\n",
    "        return False\n",
    "\n",
    "print(spy_game(list(map(int, input().split()))))"
   ]
  },
  {
   "cell_type": "code",
   "execution_count": 19,
   "id": "1954e9eb-dfcd-4f8f-856c-8bed1b707377",
   "metadata": {},
   "outputs": [
    {
     "name": "stdin",
     "output_type": "stream",
     "text": [
      " 4\n"
     ]
    },
    {
     "name": "stdout",
     "output_type": "stream",
     "text": [
      "267.94666666666666\n"
     ]
    }
   ],
   "source": [
    "#9\n",
    "def sphere_volume(r):\n",
    "    return 4 / 3 * 3.14 * r ** 3\n",
    "\n",
    "print(sphere_volume(float(input())))"
   ]
  },
  {
   "cell_type": "code",
   "execution_count": 20,
   "id": "a0a1cca9-79e2-4af1-a3d8-b750585501f4",
   "metadata": {},
   "outputs": [
    {
     "name": "stdin",
     "output_type": "stream",
     "text": [
      " 6 8 6 6\n"
     ]
    },
    {
     "name": "stdout",
     "output_type": "stream",
     "text": [
      "[6, 8]\n"
     ]
    }
   ],
   "source": [
    "#10\n",
    "nums = list(map(int, input().split()))\n",
    "unique = []\n",
    "for n in nums:\n",
    "    if n not in unique:\n",
    "        unique.append(n)\n",
    "print(unique)"
   ]
  },
  {
   "cell_type": "code",
   "execution_count": 21,
   "id": "c9790cf4-75b6-4df0-8aa4-846cac76f4f7",
   "metadata": {},
   "outputs": [
    {
     "name": "stdin",
     "output_type": "stream",
     "text": [
      " 3 7 9 0 9 7 3\n"
     ]
    },
    {
     "name": "stdout",
     "output_type": "stream",
     "text": [
      "True\n"
     ]
    }
   ],
   "source": [
    "# 11\n",
    "s = input().split()\n",
    "print(s == s[::-1])"
   ]
  },
  {
   "cell_type": "code",
   "execution_count": 22,
   "id": "00f1a301-58b1-403f-80d4-eba0c24be569",
   "metadata": {},
   "outputs": [
    {
     "name": "stdin",
     "output_type": "stream",
     "text": [
      " 4 6 7\n"
     ]
    },
    {
     "name": "stdout",
     "output_type": "stream",
     "text": [
      "****\n",
      "******\n",
      "*******\n"
     ]
    }
   ],
   "source": [
    "#12\n",
    "def histogram(hh):\n",
    "    for num in hh:\n",
    "        print(\"*\" * num)\n",
    "\n",
    "histogram(list(map(int, input().split())))"
   ]
  },
  {
   "cell_type": "code",
   "execution_count": null,
   "id": "f15e9b0c-1153-4fc2-b566-11c93fdc1a5f",
   "metadata": {},
   "outputs": [],
   "source": []
  }
 ],
 "metadata": {
  "kernelspec": {
   "display_name": "Python 3 (ipykernel)",
   "language": "python",
   "name": "python3"
  },
  "language_info": {
   "codemirror_mode": {
    "name": "ipython",
    "version": 3
   },
   "file_extension": ".py",
   "mimetype": "text/x-python",
   "name": "python",
   "nbconvert_exporter": "python",
   "pygments_lexer": "ipython3",
   "version": "3.12.7"
  }
 },
 "nbformat": 4,
 "nbformat_minor": 5
}
